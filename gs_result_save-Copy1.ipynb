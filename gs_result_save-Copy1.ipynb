{
 "cells": [
  {
   "cell_type": "code",
   "execution_count": 34,
   "id": "d193c586",
   "metadata": {},
   "outputs": [],
   "source": [
    "import numpy as np\n",
    "import pandas as pd"
   ]
  },
  {
   "cell_type": "code",
   "execution_count": 35,
   "id": "f8b90e78",
   "metadata": {
    "scrolled": false
   },
   "outputs": [
    {
     "data": {
      "text/html": [
       "<div>\n",
       "<style scoped>\n",
       "    .dataframe tbody tr th:only-of-type {\n",
       "        vertical-align: middle;\n",
       "    }\n",
       "\n",
       "    .dataframe tbody tr th {\n",
       "        vertical-align: top;\n",
       "    }\n",
       "\n",
       "    .dataframe thead th {\n",
       "        text-align: right;\n",
       "    }\n",
       "</style>\n",
       "<table border=\"1\" class=\"dataframe\">\n",
       "  <thead>\n",
       "    <tr style=\"text-align: right;\">\n",
       "      <th></th>\n",
       "      <th>Unnamed: 0</th>\n",
       "      <th>전출지별</th>\n",
       "      <th>전입지별</th>\n",
       "      <th>2017_x</th>\n",
       "      <th>2018_x</th>\n",
       "      <th>2019_x</th>\n",
       "      <th>2020_x</th>\n",
       "      <th>2021_x</th>\n",
       "      <th>거리</th>\n",
       "      <th>전입지 면적</th>\n",
       "      <th>2017_y</th>\n",
       "      <th>2018_y</th>\n",
       "      <th>2019_y</th>\n",
       "      <th>2020_y</th>\n",
       "      <th>2021_y</th>\n",
       "      <th>2017</th>\n",
       "      <th>2018</th>\n",
       "      <th>2019</th>\n",
       "      <th>2020</th>\n",
       "      <th>2021</th>\n",
       "    </tr>\n",
       "  </thead>\n",
       "  <tbody>\n",
       "    <tr>\n",
       "      <th>0</th>\n",
       "      <td>0</td>\n",
       "      <td>부산광역시</td>\n",
       "      <td>서울특별시</td>\n",
       "      <td>19460</td>\n",
       "      <td>19737</td>\n",
       "      <td>20285</td>\n",
       "      <td>20990</td>\n",
       "      <td>20009</td>\n",
       "      <td>282.825019</td>\n",
       "      <td>6.052440e+08</td>\n",
       "      <td>9857426</td>\n",
       "      <td>9765623</td>\n",
       "      <td>9729107</td>\n",
       "      <td>9668465</td>\n",
       "      <td>9509458</td>\n",
       "      <td>3470653</td>\n",
       "      <td>3441453</td>\n",
       "      <td>3413841</td>\n",
       "      <td>3391946</td>\n",
       "      <td>3350380</td>\n",
       "    </tr>\n",
       "    <tr>\n",
       "      <th>1</th>\n",
       "      <td>1</td>\n",
       "      <td>부산광역시</td>\n",
       "      <td>대구광역시</td>\n",
       "      <td>4506</td>\n",
       "      <td>4505</td>\n",
       "      <td>4220</td>\n",
       "      <td>4674</td>\n",
       "      <td>4720</td>\n",
       "      <td>72.912774</td>\n",
       "      <td>8.836982e+08</td>\n",
       "      <td>2475231</td>\n",
       "      <td>2461769</td>\n",
       "      <td>2438031</td>\n",
       "      <td>2418346</td>\n",
       "      <td>2385412</td>\n",
       "      <td>3470653</td>\n",
       "      <td>3441453</td>\n",
       "      <td>3413841</td>\n",
       "      <td>3391946</td>\n",
       "      <td>3350380</td>\n",
       "    </tr>\n",
       "    <tr>\n",
       "      <th>2</th>\n",
       "      <td>2</td>\n",
       "      <td>부산광역시</td>\n",
       "      <td>인천광역시</td>\n",
       "      <td>2994</td>\n",
       "      <td>2902</td>\n",
       "      <td>3055</td>\n",
       "      <td>2980</td>\n",
       "      <td>2758</td>\n",
       "      <td>308.289734</td>\n",
       "      <td>1.066465e+09</td>\n",
       "      <td>2948542</td>\n",
       "      <td>2954642</td>\n",
       "      <td>2957026</td>\n",
       "      <td>2942828</td>\n",
       "      <td>2948375</td>\n",
       "      <td>3470653</td>\n",
       "      <td>3441453</td>\n",
       "      <td>3413841</td>\n",
       "      <td>3391946</td>\n",
       "      <td>3350380</td>\n",
       "    </tr>\n",
       "    <tr>\n",
       "      <th>3</th>\n",
       "      <td>3</td>\n",
       "      <td>부산광역시</td>\n",
       "      <td>광주광역시</td>\n",
       "      <td>1073</td>\n",
       "      <td>1011</td>\n",
       "      <td>992</td>\n",
       "      <td>1142</td>\n",
       "      <td>1139</td>\n",
       "      <td>243.805183</td>\n",
       "      <td>5.011132e+08</td>\n",
       "      <td>1463770</td>\n",
       "      <td>1459336</td>\n",
       "      <td>1456468</td>\n",
       "      <td>1450062</td>\n",
       "      <td>1441611</td>\n",
       "      <td>3470653</td>\n",
       "      <td>3441453</td>\n",
       "      <td>3413841</td>\n",
       "      <td>3391946</td>\n",
       "      <td>3350380</td>\n",
       "    </tr>\n",
       "    <tr>\n",
       "      <th>4</th>\n",
       "      <td>4</td>\n",
       "      <td>부산광역시</td>\n",
       "      <td>대전광역시</td>\n",
       "      <td>2159</td>\n",
       "      <td>2180</td>\n",
       "      <td>2172</td>\n",
       "      <td>2144</td>\n",
       "      <td>2124</td>\n",
       "      <td>202.438173</td>\n",
       "      <td>5.395036e+08</td>\n",
       "      <td>1502227</td>\n",
       "      <td>1489936</td>\n",
       "      <td>1474870</td>\n",
       "      <td>1463882</td>\n",
       "      <td>1452251</td>\n",
       "      <td>3470653</td>\n",
       "      <td>3441453</td>\n",
       "      <td>3413841</td>\n",
       "      <td>3391946</td>\n",
       "      <td>3350380</td>\n",
       "    </tr>\n",
       "  </tbody>\n",
       "</table>\n",
       "</div>"
      ],
      "text/plain": [
       "   Unnamed: 0   전출지별   전입지별  2017_x  2018_x  2019_x  2020_x  2021_x  \\\n",
       "0           0  부산광역시  서울특별시   19460   19737   20285   20990   20009   \n",
       "1           1  부산광역시  대구광역시    4506    4505    4220    4674    4720   \n",
       "2           2  부산광역시  인천광역시    2994    2902    3055    2980    2758   \n",
       "3           3  부산광역시  광주광역시    1073    1011     992    1142    1139   \n",
       "4           4  부산광역시  대전광역시    2159    2180    2172    2144    2124   \n",
       "\n",
       "           거리        전입지 면적   2017_y   2018_y   2019_y   2020_y   2021_y  \\\n",
       "0  282.825019  6.052440e+08  9857426  9765623  9729107  9668465  9509458   \n",
       "1   72.912774  8.836982e+08  2475231  2461769  2438031  2418346  2385412   \n",
       "2  308.289734  1.066465e+09  2948542  2954642  2957026  2942828  2948375   \n",
       "3  243.805183  5.011132e+08  1463770  1459336  1456468  1450062  1441611   \n",
       "4  202.438173  5.395036e+08  1502227  1489936  1474870  1463882  1452251   \n",
       "\n",
       "      2017     2018     2019     2020     2021  \n",
       "0  3470653  3441453  3413841  3391946  3350380  \n",
       "1  3470653  3441453  3413841  3391946  3350380  \n",
       "2  3470653  3441453  3413841  3391946  3350380  \n",
       "3  3470653  3441453  3413841  3391946  3350380  \n",
       "4  3470653  3441453  3413841  3391946  3350380  "
      ]
     },
     "execution_count": 35,
     "metadata": {},
     "output_type": "execute_result"
    }
   ],
   "source": [
    "data = pd.read_csv('preprocessing_year.csv', encoding='cp949')\n",
    "least_idx=0\n",
    "data.head()"
   ]
  },
  {
   "cell_type": "code",
   "execution_count": 36,
   "id": "0e1f9742",
   "metadata": {},
   "outputs": [
    {
     "data": {
      "text/plain": [
       "array([[  0.86485291,   0.73614502,   0.94134522, -10.58398438,\n",
       "          0.        ]])"
      ]
     },
     "execution_count": 36,
     "metadata": {},
     "output_type": "execute_result"
    }
   ],
   "source": [
    "\n",
    "alpha = 0.864852905\n",
    "beta = 0.73614502\n",
    "gamma = 0.941345215\n",
    "sig = -10.58398438\n",
    "lamb = 0\n",
    "combinations = np.array(np.meshgrid(alpha,beta,gamma, sig, lamb)).T.reshape(-1,5)\n",
    "combinations"
   ]
  },
  {
   "cell_type": "code",
   "execution_count": 37,
   "id": "d65d339e",
   "metadata": {
    "scrolled": true
   },
   "outputs": [
    {
     "data": {
      "text/html": [
       "<div>\n",
       "<style scoped>\n",
       "    .dataframe tbody tr th:only-of-type {\n",
       "        vertical-align: middle;\n",
       "    }\n",
       "\n",
       "    .dataframe tbody tr th {\n",
       "        vertical-align: top;\n",
       "    }\n",
       "\n",
       "    .dataframe thead th {\n",
       "        text-align: right;\n",
       "    }\n",
       "</style>\n",
       "<table border=\"1\" class=\"dataframe\">\n",
       "  <thead>\n",
       "    <tr style=\"text-align: right;\">\n",
       "      <th></th>\n",
       "      <th>mig17</th>\n",
       "      <th>predict17</th>\n",
       "    </tr>\n",
       "  </thead>\n",
       "  <tbody>\n",
       "    <tr>\n",
       "      <th>0</th>\n",
       "      <td>19460</td>\n",
       "      <td>7954.762629</td>\n",
       "    </tr>\n",
       "    <tr>\n",
       "      <th>1</th>\n",
       "      <td>4506</td>\n",
       "      <td>10304.210328</td>\n",
       "    </tr>\n",
       "    <tr>\n",
       "      <th>2</th>\n",
       "      <td>2994</td>\n",
       "      <td>3016.665202</td>\n",
       "    </tr>\n",
       "    <tr>\n",
       "      <th>3</th>\n",
       "      <td>1073</td>\n",
       "      <td>2246.871795</td>\n",
       "    </tr>\n",
       "    <tr>\n",
       "      <th>4</th>\n",
       "      <td>2159</td>\n",
       "      <td>2728.245268</td>\n",
       "    </tr>\n",
       "  </tbody>\n",
       "</table>\n",
       "</div>"
      ],
      "text/plain": [
       "   mig17     predict17\n",
       "0  19460   7954.762629\n",
       "1   4506  10304.210328\n",
       "2   2994   3016.665202\n",
       "3   1073   2246.871795\n",
       "4   2159   2728.245268"
      ]
     },
     "execution_count": 37,
     "metadata": {},
     "output_type": "execute_result"
    }
   ],
   "source": [
    "tem = 1\n",
    "tem *= np.exp(combinations[0,3])\n",
    "tem *= (data['2017']**combinations[0,0])\n",
    "tem *= (data['2017_y']**combinations[0,1]) \n",
    "tem /= (data['거리']**combinations[0,2]) \n",
    "tem *= np.exp(combinations[0,4] * data['2017_y'] / data['전입지 면적'] * data['거리'])\n",
    "\n",
    "result = pd.DataFrame({\n",
    "    'mig17' : data['2017_x'],\n",
    "    'predict17' : tem\n",
    "})\n",
    "result.head()\n"
   ]
  },
  {
   "cell_type": "code",
   "execution_count": 38,
   "id": "b04041c0",
   "metadata": {},
   "outputs": [
    {
     "data": {
      "text/plain": [
       "array([[  0.83839416,   0.75267029,   0.94744873, -10.41601563,\n",
       "          0.        ]])"
      ]
     },
     "execution_count": 38,
     "metadata": {},
     "output_type": "execute_result"
    }
   ],
   "source": [
    "\n",
    "alpha = 0.838394165\n",
    "beta = 0.752670288\n",
    "gamma = 0.94744873\n",
    "sig = -10.41601563\n",
    "lamb = 0\n",
    "combinations = np.array(np.meshgrid(alpha,beta,gamma, sig, lamb)).T.reshape(-1,5)\n",
    "combinations"
   ]
  },
  {
   "cell_type": "code",
   "execution_count": 39,
   "id": "cbc09bdd",
   "metadata": {},
   "outputs": [
    {
     "data": {
      "text/plain": [
       "<bound method NDFrame.head of      mig17     predict17  mig18     predict18\n",
       "0    19460   7954.762629  19737   7852.358790\n",
       "1     4506  10304.210328   4505  10054.005655\n",
       "2     2994   3016.665202   2902   2942.684938\n",
       "3     1073   2246.871795   1011   2161.343789\n",
       "4     2159   2728.245268   2180   2618.268254\n",
       "..     ...           ...    ...           ...\n",
       "267  13179  13184.711862  11989  12370.369744\n",
       "268  12426   8956.135944  11209   8399.980613\n",
       "269  12464   9562.767887  12017   9020.467630\n",
       "270  12692  10553.952408  11703  10015.934582\n",
       "271  10404   2710.352757   9829   2533.526360\n",
       "\n",
       "[272 rows x 4 columns]>"
      ]
     },
     "execution_count": 39,
     "metadata": {},
     "output_type": "execute_result"
    }
   ],
   "source": [
    "tem = 1\n",
    "tem *= np.exp(combinations[least_idx,3])\n",
    "tem *= (data['2018']**combinations[least_idx,0])\n",
    "tem *= (data['2018_y']**combinations[least_idx,1]) \n",
    "tem /= (data['거리']**combinations[least_idx,2]) \n",
    "tem *= np.exp(combinations[least_idx,4] * data['2018_y'] / data['전입지 면적'] * data['거리'])\n",
    "\n",
    "result['mig18']= data['2018_x']\n",
    "result['predict18']=tem\n",
    "result.head"
   ]
  },
  {
   "cell_type": "code",
   "execution_count": 40,
   "id": "c165367f",
   "metadata": {},
   "outputs": [
    {
     "data": {
      "text/plain": [
       "array([[  0.83529663,   0.81169128,   0.9274292 , -11.33398438,\n",
       "          0.        ]])"
      ]
     },
     "execution_count": 40,
     "metadata": {},
     "output_type": "execute_result"
    }
   ],
   "source": [
    "\n",
    "alpha = 0.835296631\n",
    "beta = 0.811691284\n",
    "gamma = 0.927429199\n",
    "sig = -11.33398438\n",
    "lamb = 0\n",
    "combinations = np.array(np.meshgrid(alpha,beta,gamma, sig, lamb)).T.reshape(-1,5)\n",
    "combinations"
   ]
  },
  {
   "cell_type": "code",
   "execution_count": 41,
   "id": "755e496a",
   "metadata": {},
   "outputs": [
    {
     "data": {
      "text/plain": [
       "<bound method NDFrame.head of      mig17     predict17  mig18     predict18  mig19     predict19\n",
       "0    19460   7954.762629  19737   7852.358790  20285   8579.420455\n",
       "1     4506  10304.210328   4505  10054.005655   4220   9808.324627\n",
       "2     2994   3016.665202   2902   2942.684938   3055   3012.400044\n",
       "3     1073   2246.871795   1011   2161.343789    992   2107.626148\n",
       "4     2159   2728.245268   2180   2618.268254   2172   2529.938475\n",
       "..     ...           ...    ...           ...    ...           ...\n",
       "267  13179  13184.711862  11989  12370.369744  11058  11977.113272\n",
       "268  12426   8956.135944  11209   8399.980613  11334   8229.791870\n",
       "269  12464   9562.767887  12017   9020.467630  11935   9085.623633\n",
       "270  12692  10553.952408  11703  10015.934582  11369  10248.076461\n",
       "271  10404   2710.352757   9829   2533.526360   8503   2380.941874\n",
       "\n",
       "[272 rows x 6 columns]>"
      ]
     },
     "execution_count": 41,
     "metadata": {},
     "output_type": "execute_result"
    }
   ],
   "source": [
    "tem = 1\n",
    "tem *= np.exp(combinations[least_idx,3])\n",
    "tem *= (data['2019']**combinations[least_idx,0])\n",
    "tem *= (data['2019_y']**combinations[least_idx,1]) \n",
    "tem /= (data['거리']**combinations[least_idx,2]) \n",
    "tem *= np.exp(combinations[least_idx,4] * data['2019_y'] / data['전입지 면적'] * data['거리'])\n",
    "\n",
    "result['mig19']= data['2019_x']\n",
    "result['predict19']=tem\n",
    "result.head"
   ]
  },
  {
   "cell_type": "code",
   "execution_count": 42,
   "id": "e8316abf",
   "metadata": {},
   "outputs": [
    {
     "data": {
      "text/plain": [
       "array([[  0.81019592,   0.80764771,   0.95297241, -10.74194336,\n",
       "          0.        ]])"
      ]
     },
     "execution_count": 42,
     "metadata": {},
     "output_type": "execute_result"
    }
   ],
   "source": [
    "\n",
    "alpha = 0.810195923\n",
    "beta = 0.807647705\n",
    "gamma = 0.952972412\n",
    "sig = -10.74194336\n",
    "lamb = 0\n",
    "combinations = np.array(np.meshgrid(alpha,beta,gamma, sig, lamb)).T.reshape(-1,5)\n",
    "combinations"
   ]
  },
  {
   "cell_type": "code",
   "execution_count": 43,
   "id": "00eace15",
   "metadata": {},
   "outputs": [
    {
     "data": {
      "text/plain": [
       "<bound method NDFrame.head of      mig17     predict17  mig18     predict18  mig19     predict19  mig20  \\\n",
       "0    19460   7954.762629  19737   7852.358790  20285   8579.420455  20990   \n",
       "1     4506  10304.210328   4505  10054.005655   4220   9808.324627   4674   \n",
       "2     2994   3016.665202   2902   2942.684938   3055   3012.400044   2980   \n",
       "3     1073   2246.871795   1011   2161.343789    992   2107.626148   1142   \n",
       "4     2159   2728.245268   2180   2618.268254   2172   2529.938475   2144   \n",
       "..     ...           ...    ...           ...    ...           ...    ...   \n",
       "267  13179  13184.711862  11989  12370.369744  11058  11977.113272  11638   \n",
       "268  12426   8956.135944  11209   8399.980613  11334   8229.791870  11210   \n",
       "269  12464   9562.767887  12017   9020.467630  11935   9085.623633  11987   \n",
       "270  12692  10553.952408  11703  10015.934582  11369  10248.076461  11647   \n",
       "271  10404   2710.352757   9829   2533.526360   8503   2380.941874   9214   \n",
       "\n",
       "        predict20  \n",
       "0     8536.021380  \n",
       "1    10144.015992  \n",
       "2     3008.500998  \n",
       "3     2124.320465  \n",
       "4     2555.642849  \n",
       "..            ...  \n",
       "267  11936.429530  \n",
       "268   8104.730773  \n",
       "269   8883.103447  \n",
       "270  10018.100984  \n",
       "271   2355.862459  \n",
       "\n",
       "[272 rows x 8 columns]>"
      ]
     },
     "execution_count": 43,
     "metadata": {},
     "output_type": "execute_result"
    }
   ],
   "source": [
    "tem = 1\n",
    "tem *= np.exp(combinations[least_idx,3])\n",
    "tem *= (data['2020']**combinations[least_idx,0])\n",
    "tem *= (data['2020_y']**combinations[least_idx,1]) \n",
    "tem /= (data['거리']**combinations[least_idx,2]) \n",
    "tem *= np.exp(combinations[least_idx,4] * data['2020_y'] / data['전입지 면적'] * data['거리'])\n",
    "\n",
    "result['mig20']= data['2020_x']\n",
    "result['predict20']=tem\n",
    "result.head"
   ]
  },
  {
   "cell_type": "code",
   "execution_count": 44,
   "id": "baab84ea",
   "metadata": {},
   "outputs": [
    {
     "data": {
      "text/plain": [
       "array([[  0.8306427 ,   0.80848694,   0.93655396, -11.15039063,\n",
       "          0.        ]])"
      ]
     },
     "execution_count": 44,
     "metadata": {},
     "output_type": "execute_result"
    }
   ],
   "source": [
    "\n",
    "alpha = 0.8306427\n",
    "beta = 0.808486938\n",
    "gamma = 0.936553955\n",
    "sig = -11.15039063\n",
    "lamb = 0\n",
    "combinations = np.array(np.meshgrid(alpha,beta,gamma, sig, lamb)).T.reshape(-1,5)\n",
    "combinations"
   ]
  },
  {
   "cell_type": "code",
   "execution_count": 45,
   "id": "44de79ea",
   "metadata": {},
   "outputs": [
    {
     "data": {
      "text/plain": [
       "<bound method NDFrame.head of      mig17     predict17  mig18     predict18  mig19     predict19  mig20  \\\n",
       "0    19460   7954.762629  19737   7852.358790  20285   8579.420455  20990   \n",
       "1     4506  10304.210328   4505  10054.005655   4220   9808.324627   4674   \n",
       "2     2994   3016.665202   2902   2942.684938   3055   3012.400044   2980   \n",
       "3     1073   2246.871795   1011   2161.343789    992   2107.626148   1142   \n",
       "4     2159   2728.245268   2180   2618.268254   2172   2529.938475   2144   \n",
       "..     ...           ...    ...           ...    ...           ...    ...   \n",
       "267  13179  13184.711862  11989  12370.369744  11058  11977.113272  11638   \n",
       "268  12426   8956.135944  11209   8399.980613  11334   8229.791870  11210   \n",
       "269  12464   9562.767887  12017   9020.467630  11935   9085.623633  11987   \n",
       "270  12692  10553.952408  11703  10015.934582  11369  10248.076461  11647   \n",
       "271  10404   2710.352757   9829   2533.526360   8503   2380.941874   9214   \n",
       "\n",
       "        predict20  mig21     predict21  \n",
       "0     8536.021380  20009   8379.878162  \n",
       "1    10144.015992   4720   9750.552754  \n",
       "2     3008.500998   2758   2999.143886  \n",
       "3     2124.320465   1139   2095.184935  \n",
       "4     2555.642849   2124   2508.600873  \n",
       "..            ...    ...           ...  \n",
       "267  11936.429530  11906  11807.482102  \n",
       "268   8104.730773  11305   8070.207658  \n",
       "269   8883.103447  12568   8915.809656  \n",
       "270  10018.100984  11583  10045.046911  \n",
       "271   2355.862459   9394   2386.428502  \n",
       "\n",
       "[272 rows x 10 columns]>"
      ]
     },
     "execution_count": 45,
     "metadata": {},
     "output_type": "execute_result"
    }
   ],
   "source": [
    "tem = 1\n",
    "tem *= np.exp(combinations[least_idx,3])\n",
    "tem *= (data['2021']**combinations[least_idx,0])\n",
    "tem *= (data['2021_y']**combinations[least_idx,1]) \n",
    "tem /= (data['거리']**combinations[least_idx,2]) \n",
    "tem *= np.exp(combinations[least_idx,4] * data['2021_y'] / data['전입지 면적'] * data['거리'])\n",
    "\n",
    "result['mig21']= data['2021_x']\n",
    "result['predict21']=tem\n",
    "result.head"
   ]
  },
  {
   "cell_type": "code",
   "execution_count": 46,
   "id": "55405d44",
   "metadata": {},
   "outputs": [],
   "source": [
    "result.to_csv('1grav.csv')"
   ]
  },
  {
   "cell_type": "code",
   "execution_count": null,
   "id": "7ff0fdd3",
   "metadata": {},
   "outputs": [],
   "source": []
  },
  {
   "cell_type": "code",
   "execution_count": null,
   "id": "0db0ff82",
   "metadata": {},
   "outputs": [],
   "source": []
  },
  {
   "cell_type": "code",
   "execution_count": null,
   "id": "933f4867",
   "metadata": {},
   "outputs": [],
   "source": []
  },
  {
   "cell_type": "code",
   "execution_count": null,
   "id": "de391b3c",
   "metadata": {},
   "outputs": [],
   "source": []
  },
  {
   "cell_type": "code",
   "execution_count": null,
   "id": "755b0f7e",
   "metadata": {},
   "outputs": [],
   "source": []
  },
  {
   "cell_type": "code",
   "execution_count": null,
   "id": "ee3dcecc",
   "metadata": {},
   "outputs": [],
   "source": []
  },
  {
   "cell_type": "code",
   "execution_count": null,
   "id": "0e786f5f",
   "metadata": {},
   "outputs": [],
   "source": []
  },
  {
   "cell_type": "code",
   "execution_count": null,
   "id": "4c1a0e25",
   "metadata": {},
   "outputs": [],
   "source": []
  },
  {
   "cell_type": "code",
   "execution_count": null,
   "id": "2c777d87",
   "metadata": {},
   "outputs": [],
   "source": []
  },
  {
   "cell_type": "code",
   "execution_count": null,
   "id": "840c4443",
   "metadata": {},
   "outputs": [],
   "source": []
  },
  {
   "cell_type": "code",
   "execution_count": null,
   "id": "4f02671e",
   "metadata": {},
   "outputs": [],
   "source": []
  },
  {
   "cell_type": "code",
   "execution_count": null,
   "id": "b7b0f33d",
   "metadata": {},
   "outputs": [],
   "source": []
  },
  {
   "cell_type": "code",
   "execution_count": null,
   "id": "9211e5c0",
   "metadata": {},
   "outputs": [],
   "source": []
  },
  {
   "cell_type": "code",
   "execution_count": null,
   "id": "f8b1ba01",
   "metadata": {},
   "outputs": [],
   "source": []
  },
  {
   "cell_type": "code",
   "execution_count": null,
   "id": "08e8724b",
   "metadata": {},
   "outputs": [],
   "source": []
  },
  {
   "cell_type": "code",
   "execution_count": null,
   "id": "2fabce2c",
   "metadata": {},
   "outputs": [],
   "source": []
  },
  {
   "cell_type": "code",
   "execution_count": null,
   "id": "8162e170",
   "metadata": {},
   "outputs": [],
   "source": []
  },
  {
   "cell_type": "code",
   "execution_count": null,
   "id": "b674f8aa",
   "metadata": {},
   "outputs": [],
   "source": []
  }
 ],
 "metadata": {
  "kernelspec": {
   "display_name": "Python 3 (ipykernel)",
   "language": "python",
   "name": "python3"
  },
  "language_info": {
   "codemirror_mode": {
    "name": "ipython",
    "version": 3
   },
   "file_extension": ".py",
   "mimetype": "text/x-python",
   "name": "python",
   "nbconvert_exporter": "python",
   "pygments_lexer": "ipython3",
   "version": "3.9.7"
  }
 },
 "nbformat": 4,
 "nbformat_minor": 5
}
