{
 "cells": [
  {
   "cell_type": "code",
   "execution_count": 65,
   "id": "d193c586",
   "metadata": {},
   "outputs": [],
   "source": [
    "import numpy as np\n",
    "import pandas as pd\n",
    "import matplotlib.pyplot as plt"
   ]
  },
  {
   "cell_type": "code",
   "execution_count": 66,
   "id": "f8b90e78",
   "metadata": {
    "scrolled": false
   },
   "outputs": [
    {
     "data": {
      "text/html": [
       "<div>\n",
       "<style scoped>\n",
       "    .dataframe tbody tr th:only-of-type {\n",
       "        vertical-align: middle;\n",
       "    }\n",
       "\n",
       "    .dataframe tbody tr th {\n",
       "        vertical-align: top;\n",
       "    }\n",
       "\n",
       "    .dataframe thead th {\n",
       "        text-align: right;\n",
       "    }\n",
       "</style>\n",
       "<table border=\"1\" class=\"dataframe\">\n",
       "  <thead>\n",
       "    <tr style=\"text-align: right;\">\n",
       "      <th></th>\n",
       "      <th>Unnamed: 0</th>\n",
       "      <th>전출지별</th>\n",
       "      <th>전입지별</th>\n",
       "      <th>2017_x</th>\n",
       "      <th>2018_x</th>\n",
       "      <th>2019_x</th>\n",
       "      <th>2020_x</th>\n",
       "      <th>2021_x</th>\n",
       "      <th>거리</th>\n",
       "      <th>전입지 면적</th>\n",
       "      <th>2017_y</th>\n",
       "      <th>2018_y</th>\n",
       "      <th>2019_y</th>\n",
       "      <th>2020_y</th>\n",
       "      <th>2021_y</th>\n",
       "      <th>2017</th>\n",
       "      <th>2018</th>\n",
       "      <th>2019</th>\n",
       "      <th>2020</th>\n",
       "      <th>2021</th>\n",
       "    </tr>\n",
       "  </thead>\n",
       "  <tbody>\n",
       "    <tr>\n",
       "      <th>0</th>\n",
       "      <td>0</td>\n",
       "      <td>부산광역시</td>\n",
       "      <td>서울특별시</td>\n",
       "      <td>19460</td>\n",
       "      <td>19737</td>\n",
       "      <td>20285</td>\n",
       "      <td>20990</td>\n",
       "      <td>20009</td>\n",
       "      <td>282.825019</td>\n",
       "      <td>6.052440e+08</td>\n",
       "      <td>9857426</td>\n",
       "      <td>9765623</td>\n",
       "      <td>9729107</td>\n",
       "      <td>9668465</td>\n",
       "      <td>9509458</td>\n",
       "      <td>3470653</td>\n",
       "      <td>3441453</td>\n",
       "      <td>3413841</td>\n",
       "      <td>3391946</td>\n",
       "      <td>3350380</td>\n",
       "    </tr>\n",
       "    <tr>\n",
       "      <th>1</th>\n",
       "      <td>1</td>\n",
       "      <td>부산광역시</td>\n",
       "      <td>대구광역시</td>\n",
       "      <td>4506</td>\n",
       "      <td>4505</td>\n",
       "      <td>4220</td>\n",
       "      <td>4674</td>\n",
       "      <td>4720</td>\n",
       "      <td>72.912774</td>\n",
       "      <td>8.836982e+08</td>\n",
       "      <td>2475231</td>\n",
       "      <td>2461769</td>\n",
       "      <td>2438031</td>\n",
       "      <td>2418346</td>\n",
       "      <td>2385412</td>\n",
       "      <td>3470653</td>\n",
       "      <td>3441453</td>\n",
       "      <td>3413841</td>\n",
       "      <td>3391946</td>\n",
       "      <td>3350380</td>\n",
       "    </tr>\n",
       "    <tr>\n",
       "      <th>2</th>\n",
       "      <td>2</td>\n",
       "      <td>부산광역시</td>\n",
       "      <td>인천광역시</td>\n",
       "      <td>2994</td>\n",
       "      <td>2902</td>\n",
       "      <td>3055</td>\n",
       "      <td>2980</td>\n",
       "      <td>2758</td>\n",
       "      <td>308.289734</td>\n",
       "      <td>1.066465e+09</td>\n",
       "      <td>2948542</td>\n",
       "      <td>2954642</td>\n",
       "      <td>2957026</td>\n",
       "      <td>2942828</td>\n",
       "      <td>2948375</td>\n",
       "      <td>3470653</td>\n",
       "      <td>3441453</td>\n",
       "      <td>3413841</td>\n",
       "      <td>3391946</td>\n",
       "      <td>3350380</td>\n",
       "    </tr>\n",
       "    <tr>\n",
       "      <th>3</th>\n",
       "      <td>3</td>\n",
       "      <td>부산광역시</td>\n",
       "      <td>광주광역시</td>\n",
       "      <td>1073</td>\n",
       "      <td>1011</td>\n",
       "      <td>992</td>\n",
       "      <td>1142</td>\n",
       "      <td>1139</td>\n",
       "      <td>243.805183</td>\n",
       "      <td>5.011132e+08</td>\n",
       "      <td>1463770</td>\n",
       "      <td>1459336</td>\n",
       "      <td>1456468</td>\n",
       "      <td>1450062</td>\n",
       "      <td>1441611</td>\n",
       "      <td>3470653</td>\n",
       "      <td>3441453</td>\n",
       "      <td>3413841</td>\n",
       "      <td>3391946</td>\n",
       "      <td>3350380</td>\n",
       "    </tr>\n",
       "    <tr>\n",
       "      <th>4</th>\n",
       "      <td>4</td>\n",
       "      <td>부산광역시</td>\n",
       "      <td>대전광역시</td>\n",
       "      <td>2159</td>\n",
       "      <td>2180</td>\n",
       "      <td>2172</td>\n",
       "      <td>2144</td>\n",
       "      <td>2124</td>\n",
       "      <td>202.438173</td>\n",
       "      <td>5.395036e+08</td>\n",
       "      <td>1502227</td>\n",
       "      <td>1489936</td>\n",
       "      <td>1474870</td>\n",
       "      <td>1463882</td>\n",
       "      <td>1452251</td>\n",
       "      <td>3470653</td>\n",
       "      <td>3441453</td>\n",
       "      <td>3413841</td>\n",
       "      <td>3391946</td>\n",
       "      <td>3350380</td>\n",
       "    </tr>\n",
       "  </tbody>\n",
       "</table>\n",
       "</div>"
      ],
      "text/plain": [
       "   Unnamed: 0   전출지별   전입지별  2017_x  2018_x  2019_x  2020_x  2021_x  \\\n",
       "0           0  부산광역시  서울특별시   19460   19737   20285   20990   20009   \n",
       "1           1  부산광역시  대구광역시    4506    4505    4220    4674    4720   \n",
       "2           2  부산광역시  인천광역시    2994    2902    3055    2980    2758   \n",
       "3           3  부산광역시  광주광역시    1073    1011     992    1142    1139   \n",
       "4           4  부산광역시  대전광역시    2159    2180    2172    2144    2124   \n",
       "\n",
       "           거리        전입지 면적   2017_y   2018_y   2019_y   2020_y   2021_y  \\\n",
       "0  282.825019  6.052440e+08  9857426  9765623  9729107  9668465  9509458   \n",
       "1   72.912774  8.836982e+08  2475231  2461769  2438031  2418346  2385412   \n",
       "2  308.289734  1.066465e+09  2948542  2954642  2957026  2942828  2948375   \n",
       "3  243.805183  5.011132e+08  1463770  1459336  1456468  1450062  1441611   \n",
       "4  202.438173  5.395036e+08  1502227  1489936  1474870  1463882  1452251   \n",
       "\n",
       "      2017     2018     2019     2020     2021  \n",
       "0  3470653  3441453  3413841  3391946  3350380  \n",
       "1  3470653  3441453  3413841  3391946  3350380  \n",
       "2  3470653  3441453  3413841  3391946  3350380  \n",
       "3  3470653  3441453  3413841  3391946  3350380  \n",
       "4  3470653  3441453  3413841  3391946  3350380  "
      ]
     },
     "execution_count": 66,
     "metadata": {},
     "output_type": "execute_result"
    }
   ],
   "source": [
    "data = pd.read_csv('preprocessing_year.csv', encoding='cp949')\n",
    "data.head()"
   ]
  },
  {
   "cell_type": "code",
   "execution_count": 67,
   "id": "0e1f9742",
   "metadata": {},
   "outputs": [],
   "source": [
    "alpha = 0.869125366\n",
    "\n",
    "beta = 0.679855347\n",
    "\n",
    "gamma = 0.985855103\n",
    "\n",
    "sig = np.linspace(-8,-14,70)\n",
    "lamb = np.linspace(-1,1,50)"
   ]
  },
  {
   "cell_type": "code",
   "execution_count": 68,
   "id": "084071c7",
   "metadata": {},
   "outputs": [],
   "source": [
    "xs, ys = np.meshgrid(sig, lamb)"
   ]
  },
  {
   "cell_type": "code",
   "execution_count": 69,
   "id": "c65de252",
   "metadata": {
    "scrolled": true
   },
   "outputs": [
    {
     "data": {
      "text/plain": [
       "(50, 70)"
      ]
     },
     "execution_count": 69,
     "metadata": {},
     "output_type": "execute_result"
    }
   ],
   "source": [
    "xs.shape"
   ]
  },
  {
   "cell_type": "code",
   "execution_count": 70,
   "id": "6480cacc",
   "metadata": {},
   "outputs": [],
   "source": [
    "zz=xs\n",
    "for i in range(xs.shape[0]):\n",
    "    for j in range(xs.shape[1]):\n",
    "        tem = 1\n",
    "        tem *= np.exp(xs[i,j])\n",
    "        tem *= (data['2017']**alpha)\n",
    "        tem *= (data['2017_y']**beta) \n",
    "        tem /= (data['거리']**gamma) \n",
    "        tem *= np.exp(ys[i,j] * data['2017_y'] / data['전입지 면적'] * data['거리'])\n",
    "\n",
    "        tem_err = sum((data['2017_x'] - tem)**2)\n",
    "        zz[i,j] = tem_err"
   ]
  },
  {
   "cell_type": "code",
   "execution_count": 73,
   "id": "7036842e",
   "metadata": {
    "scrolled": true
   },
   "outputs": [
    {
     "data": {
      "image/png": "[encoded data removed]",
      "text/plain": [
       "<Figure size 432x288 with 2 Axes>"
      ]
     },
     "metadata": {
      "needs_background": "light"
     },
     "output_type": "display_data"
    }
   ],
   "source": [
    "\n",
    "h = plt.contourf(sig, lamb, np.log(zz))\n",
    "plt.colorbar()\n",
    "plt.xlabel('delta')\n",
    "plt.ylabel('lamb')\n",
    "plt.title('2D error plot')\n",
    "plt.savefig('2D errer (grid).png')\n",
    "plt.show()"
   ]
  },
  {
   "cell_type": "code",
   "execution_count": null,
   "id": "7c46c52f",
   "metadata": {},
   "outputs": [],
   "source": []
  },
  {
   "cell_type": "code",
   "execution_count": null,
   "id": "1c03e2e7",
   "metadata": {},
   "outputs": [],
   "source": []
  },
  {
   "cell_type": "code",
   "execution_count": null,
   "id": "fdcfe602",
   "metadata": {},
   "outputs": [],
   "source": []
  },
  {
   "cell_type": "code",
   "execution_count": null,
   "id": "bcd34a4b",
   "metadata": {},
   "outputs": [],
   "source": []
  },
  {
   "cell_type": "code",
   "execution_count": null,
   "id": "8d5e3027",
   "metadata": {},
   "outputs": [],
   "source": []
  },
  {
   "cell_type": "code",
   "execution_count": null,
   "id": "0a682b8a",
   "metadata": {},
   "outputs": [],
   "source": []
  }
 ],
 "metadata": {
  "kernelspec": {
   "display_name": "Python 3 (ipykernel)",
   "language": "python",
   "name": "python3"
  },
  "language_info": {
   "codemirror_mode": {
    "name": "ipython",
    "version": 3
   },
   "file_extension": ".py",
   "mimetype": "text/x-python",
   "name": "python",
   "nbconvert_exporter": "python",
   "pygments_lexer": "ipython3",
   "version": "3.9.7"
  }
 },
 "nbformat": 4,
 "nbformat_minor": 5
}
